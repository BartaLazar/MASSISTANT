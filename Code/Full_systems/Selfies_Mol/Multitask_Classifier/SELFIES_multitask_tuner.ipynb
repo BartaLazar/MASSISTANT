{
 "cells": [
  {
   "cell_type": "code",
   "execution_count": null,
   "metadata": {},
   "outputs": [],
   "source": [
    "%load_ext autoreload\n",
    "%autoreload 2"
   ]
  },
  {
   "cell_type": "markdown",
   "metadata": {},
   "source": [
    "# Multitask Classification with SELFIES - Tuning"
   ]
  },
  {
   "cell_type": "code",
   "execution_count": null,
   "metadata": {},
   "outputs": [],
   "source": [
    "from Code.Full_systems.Selfies_Mol.Multitask_Classifier.Utils.SELFIES_DC_multitask import DC_multitask_optimizer"
   ]
  },
  {
   "cell_type": "code",
   "execution_count": null,
   "metadata": {},
   "outputs": [],
   "source": [
    "# example of manual combinations\n",
    "manual_combinations = [\n",
    "    {\n",
    "        \"layer_sizes\": [3000, 2000],\n",
    "        \"learning_rate\": 0.001,\n",
    "        \"batch_size\": 150,\n",
    "        \"dropout\": 0.1\n",
    "    },\n",
    "    {\n",
    "        \"layer_sizes\": [3000, 2000, 2000],\n",
    "        \"learning_rate\": 0.001,\n",
    "        \"batch_size\": 100,\n",
    "        \"dropout\": 0.1\n",
    "    }\n",
    "]"
   ]
  },
  {
   "cell_type": "code",
   "execution_count": null,
   "metadata": {},
   "outputs": [],
   "source": [
    "# if you only want to train models with manual combinations, set rounds=0\n",
    "# if you only want to train one specific model, provide only one combination in manual_combinations\n",
    "# if you want to train random combinations, set manual_combinations=None\n",
    "# to change the way the random combinations are generated, modify the function Code/Full_systems/Selfies_Mol/Multitask_Classifier/Utils/random_combinations.py create_hyperparameter_combinations\n",
    "DC_multitask_optimizer(rounds=0, training_epochs=50, model_name_=\"MODEL_NAME\", start_round=0, manual_combinations=None, debug=False)"
   ]
  }
 ],
 "metadata": {
  "kernelspec": {
   "display_name": "Python 3 (ipykernel)",
   "language": "python",
   "name": "python3"
  },
  "language_info": {
   "codemirror_mode": {
    "name": "ipython",
    "version": 3
   },
   "file_extension": ".py",
   "mimetype": "text/x-python",
   "name": "python",
   "nbconvert_exporter": "python",
   "pygments_lexer": "ipython3",
   "version": "3.11.8"
  }
 },
 "nbformat": 4,
 "nbformat_minor": 4
}
