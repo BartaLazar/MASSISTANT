{
 "cells": [
  {
   "cell_type": "code",
   "id": "f7334003ba8c01ea",
   "metadata": {},
   "source": [
    "%load_ext autoreload\n",
    "%autoreload 2"
   ],
   "outputs": [],
   "execution_count": null
  },
  {
   "cell_type": "markdown",
   "id": "b0578d3df36d231a",
   "metadata": {},
   "source": [
    "# Global Summary Creator"
   ]
  },
  {
   "cell_type": "code",
   "id": "8f2a26f0fa1ef05c",
   "metadata": {},
   "source": [
    "from Code.Utils.util_methods import NNUtils\n",
    "import os\n",
    "import json\n",
    "from tqdm import tqdm\n",
    "import pandas as pd\n",
    "\n",
    "base = NNUtils.find_project_root(os.getcwd())\n",
    "base"
   ],
   "outputs": [],
   "execution_count": null
  },
  {
   "cell_type": "code",
   "id": "1ccce9fb2ec28d21",
   "metadata": {},
   "source": [
    "MAIN_DIRECTORY = f'{base}/Code/Full_systems/Selfies_Mol/Multitask_Classifier/Models'\n",
    "OUTPUT_FILE = f'{MAIN_DIRECTORY}/global_summary.csv'"
   ],
   "outputs": [],
   "execution_count": null
  },
  {
   "cell_type": "markdown",
   "id": "33b4bee1bf3daa01",
   "metadata": {},
   "source": [
    "## DON'T TOUCH FROM HERE"
   ]
  },
  {
   "cell_type": "code",
   "id": "b985d403cb980939",
   "metadata": {},
   "source": [
    "def iterate_through_folders(directory):\n",
    "    \"\"\"\n",
    "    Iterates through all folders in the given directory and extracts the information from the evaluation.json and parameters.json files\n",
    "    :param directory: the directory to iterate through\n",
    "    :return: a list of dictionaries containing the information from the .json files\n",
    "    \"\"\"\n",
    "    # get all directories and their creation times\n",
    "    folders = [(root, os.path.getctime(root)) for root, dirs, files in os.walk(directory)]\n",
    "    # sort folders by creation time from oldest to newest\n",
    "    folders.sort(key=lambda x: x[1])\n",
    "\n",
    "    results = []\n",
    "    for folder, _ in tqdm(folders):\n",
    "        files = os.listdir(folder)\n",
    "        instance = {}\n",
    "        if '.done' in files:\n",
    "            for file in files:\n",
    "                if file.endswith('.json') and 'evaluation' in file:\n",
    "                    file_path = os.path.join(folder, file)\n",
    "                    with open(file_path, 'r') as f:\n",
    "                        data = json.load(f)\n",
    "                    instance['model_name'] = file_path.split('/')[-2]\n",
    "                    instance['architecture'] = '_'.join(instance['model_name'].split('_')[0:len(instance['model_name'].split('_'))-2])\n",
    "                    instance['>=0.6'] = data['prediction_rates']['60%+']\n",
    "                    instance['>=0.9'] = data['prediction_rates']['90%+']\n",
    "                    instance['>=1'] = data['prediction_rates']['100%+']\n",
    "                    instance['correct_prediction'] = data['prediction_rates']['correct']\n",
    "                elif file.endswith('.json') and 'parameters' in file:\n",
    "                    file_path = os.path.join(folder, file)\n",
    "                    with open(file_path, 'r') as f:\n",
    "                        data = json.load(f)\n",
    "                    instance['layer_sizes'] = data['layer_sizes']\n",
    "                    instance['dropouts'] = data['dropouts']\n",
    "                    instance['learning_rate'] = data['learning_rate']\n",
    "                    instance['batch_size'] = data['batch_size']\n",
    "        if instance != {}:\n",
    "            results.append(instance)\n",
    "    return results"
   ],
   "outputs": [],
   "execution_count": null
  },
  {
   "cell_type": "code",
   "id": "fd033d22af43f45e",
   "metadata": {},
   "source": [
    "summaries = iterate_through_folders(MAIN_DIRECTORY)\n",
    "#summaries"
   ],
   "outputs": [],
   "execution_count": null
  },
  {
   "cell_type": "code",
   "id": "7b812162e4944f52",
   "metadata": {},
   "source": [
    "summaries_df = pd.DataFrame(summaries)\n",
    "summaries_df"
   ],
   "outputs": [],
   "execution_count": null
  },
  {
   "cell_type": "code",
   "id": "a49c58fe3c4ff190",
   "metadata": {},
   "source": [
    "summaries_df.to_csv(OUTPUT_FILE)"
   ],
   "outputs": [],
   "execution_count": null
  }
 ],
 "metadata": {
  "kernelspec": {
   "display_name": "Python 3 (ipykernel)",
   "language": "python",
   "name": "python3"
  },
  "language_info": {
   "codemirror_mode": {
    "name": "ipython",
    "version": 3
   },
   "file_extension": ".py",
   "mimetype": "text/x-python",
   "name": "python",
   "nbconvert_exporter": "python",
   "pygments_lexer": "ipython3",
   "version": "3.11.8"
  }
 },
 "nbformat": 4,
 "nbformat_minor": 5
}
