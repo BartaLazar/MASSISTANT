{
 "cells": [
  {
   "cell_type": "code",
   "metadata": {
    "editable": true,
    "id": "fcxFhcf-bjB7",
    "slideshow": {
     "slide_type": ""
    },
    "tags": []
   },
   "source": [
    "import os\n",
    "\n",
    "import pandas as pd\n",
    "import math\n",
    "import cirpy\n",
    "import matplotlib.pyplot as plt\n",
    "from rdkit.Chem import rdMolDescriptors\n",
    "\n",
    "from tqdm import tqdm\n",
    "\n",
    "from Code.Utils.util_methods import NNUtils\n"
   ],
   "outputs": [],
   "execution_count": null
  },
  {
   "cell_type": "markdown",
   "metadata": {
    "id": "leOXEnDXdrM-"
   },
   "source": [
    "## Provide the data"
   ]
  },
  {
   "cell_type": "code",
   "metadata": {
    "id": "qenlv5Yte73F"
   },
   "source": [
    "PATH = \"PROVIDE YOUR PATH HERE\" # Path to the dataset. An example dataset is provided in the Dataset folder\n",
    "BASE = \"..\"\n",
    "MAX_MW = int(os.getenv(\"MAX_MASS\")) # Maximum mass weight to consider\n",
    "INFER_SMILES = False # Must stay false. Only set to True if you want to run the inference of the SMILES from the name and CAS number. It will take a long time.\n",
    "DELETE_AROMATICS = False # Only set to True if you want to delete the aromatic molecules."
   ],
   "outputs": [],
   "execution_count": null
  },
  {
   "cell_type": "markdown",
   "metadata": {
    "id": "P1OUIV3-fA3Z"
   },
   "source": [
    "## Extract the data"
   ]
  },
  {
   "cell_type": "code",
   "metadata": {},
   "source": [
    "# you can ignore this cell\n",
    "# flag to know if the dataset is the original one, so it will check the SMILES from the name and CAS number\n",
    "if PATH == \"../Dataset/nist_08_Common_all_smiles.pkl\":\n",
    "    f_original_dataset = True\n",
    "else:\n",
    "    f_original_dataset = False # always False"
   ],
   "outputs": [],
   "execution_count": null
  },
  {
   "cell_type": "code",
   "metadata": {
    "id": "ieFY1TjPfEwo"
   },
   "source": [
    "if PATH.split('.')[-1] == 'csv':\n",
    "    df = NNUtils.read_big_csv(PATH)\n",
    "elif PATH.split('.')[-1] == 'pkl':\n",
    "    df = pd.read_pickle(PATH)\n",
    "else:\n",
    "    raise Exception(\"The file must be a csv or pkl file\")\n",
    "PATH"
   ],
   "outputs": [],
   "execution_count": null
  },
  {
   "cell_type": "code",
   "metadata": {
    "colab": {
     "base_uri": "https://localhost:8080/",
     "height": 389
    },
    "id": "GxXyKuqogspN",
    "outputId": "847a4d19-dacc-45f8-8205-f63fde068897"
   },
   "source": [
    "df.head()"
   ],
   "outputs": [],
   "execution_count": null
  },
  {
   "cell_type": "code",
   "metadata": {
    "colab": {
     "base_uri": "https://localhost:8080/"
    },
    "id": "9LgTw9_5gQjE",
    "outputId": "98a631ca-d0bf-4369-cbd8-2e6a608497db"
   },
   "source": [
    "df.shape"
   ],
   "outputs": [],
   "execution_count": null
  },
  {
   "cell_type": "code",
   "metadata": {
    "colab": {
     "base_uri": "https://localhost:8080/"
    },
    "id": "W57yL_Ywhsf_",
    "outputId": "54e237db-5513-4f5c-d899-a78bb3555fa6"
   },
   "source": [
    "# change the column names smiles to SMILES\n",
    "df.rename(columns={'smiles': 'SMILES'}, inplace=True)\n",
    "print(df[\"SMILES\"].value_counts())"
   ],
   "outputs": [],
   "execution_count": null
  },
  {
   "cell_type": "code",
   "metadata": {
    "colab": {
     "base_uri": "https://localhost:8080/"
    },
    "id": "iAUMOZ3qhF7U",
    "outputId": "fe2a19c8-9d5b-4654-9591-92a9caf5cf3d"
   },
   "source": [
    "c=0\n",
    "for smile in df[\"SMILES\"]:\n",
    "  #print(smile)\n",
    "  if smile == None:\n",
    "    c+=1\n",
    "  if isinstance(smile, float) and math.isnan(smile):\n",
    "    c+=1\n",
    "\n",
    "print(f'{c} None or NaN values')\n",
    "nb_invalid_smiles = c"
   ],
   "outputs": [],
   "execution_count": null
  },
  {
   "cell_type": "markdown",
   "metadata": {
    "collapsed": false,
    "jupyter": {
     "outputs_hidden": false
    }
   },
   "source": [
    "## Remove excess columns"
   ]
  },
  {
   "cell_type": "code",
   "metadata": {
    "collapsed": false,
    "jupyter": {
     "outputs_hidden": false
    }
   },
   "source": [
    "value_counts = df['Mw'].value_counts().sort_index()\n",
    "\n",
    "# Plotting the value counts\n",
    "plt.figure(figsize=(12, 9))\n",
    "plt.bar(value_counts.index, value_counts.values)  # Using a bar plot\n",
    "plt.title('Value Counts of masses')\n",
    "plt.xlabel('Mw')\n",
    "plt.ylabel('Counts')\n",
    "\n",
    "# Set x-axis limits from 0 to the max value\n",
    "plt.xlim(0, value_counts.index.max())\n",
    "\n",
    "# Adjusting the x-ticks to show every 50th element\n",
    "plt.xticks(range(0, value_counts.index.max() + 1, 50), rotation=45)\n",
    "plt.show()"
   ],
   "outputs": [],
   "execution_count": null
  },
  {
   "cell_type": "code",
   "metadata": {
    "collapsed": false,
    "jupyter": {
     "outputs_hidden": false
    }
   },
   "source": [
    "df[[\"Mw\"]].sort_values(\"Mw\").reset_index(drop=True).plot()"
   ],
   "outputs": [],
   "execution_count": null
  },
  {
   "cell_type": "markdown",
   "metadata": {},
   "source": [
    "-> cut out from mz600"
   ]
  },
  {
   "cell_type": "code",
   "metadata": {},
   "source": [
    "try:\n",
    "    # assuming you have a DataFrame called df and want to delete columns between 'start_column' and 'end_column'\n",
    "    start_column = 'mz'+str(MAX_MW+1)\n",
    "    end_column = 'mz1000'\n",
    "    \n",
    "    # finding the index positions of the start and end columns\n",
    "    start_idx = df.columns.get_loc(start_column)\n",
    "    end_idx = df.columns.get_loc(end_column) + 1  # add 1 to include the end column\n",
    "    \n",
    "    # creating a list of column names to delete\n",
    "    columns_to_delete = df.columns[start_idx:end_idx]\n",
    "    \n",
    "    # deleting the specified range of columns\n",
    "    df.drop(columns=columns_to_delete, inplace=True)\n",
    "\n",
    "except Exception as e:\n",
    "    print(e)"
   ],
   "outputs": [],
   "execution_count": null
  },
  {
   "cell_type": "code",
   "metadata": {},
   "source": [
    "df.reset_index(drop=True, inplace=True)\n",
    "df.head()"
   ],
   "outputs": [],
   "execution_count": null
  },
  {
   "cell_type": "markdown",
   "metadata": {},
   "source": [
    "### Verify and delete the mz columns that have 0 sum"
   ]
  },
  {
   "cell_type": "code",
   "metadata": {},
   "source": [
    "sum_of_masses= df.loc[:, 'mz1':'mz600'].sum()\n",
    "\n",
    "# Plotting the value counts\n",
    "plt.figure(figsize=(20, 16))\n",
    "sum_of_masses.plot(kind='line')  # Using a bar plot\n",
    "plt.title('Value Counts of column_name')\n",
    "plt.xlabel('Mz')\n",
    "plt.ylabel('Sum')"
   ],
   "outputs": [],
   "execution_count": null
  },
  {
   "cell_type": "code",
   "metadata": {},
   "source": [
    "zero_masses = sum_of_masses[sum_of_masses <= 0].index.tolist()\n",
    "zero_masses"
   ],
   "outputs": [],
   "execution_count": null
  },
  {
   "cell_type": "code",
   "metadata": {},
   "source": [],
   "outputs": [],
   "execution_count": null
  },
  {
   "cell_type": "markdown",
   "metadata": {},
   "source": [
    "## Transform CAS number or name to smiles"
   ]
  },
  {
   "cell_type": "markdown",
   "metadata": {
    "id": "vyxEZ1de043A"
   },
   "source": [
    "### Transformation"
   ]
  },
  {
   "cell_type": "code",
   "metadata": {},
   "source": [
    "#smiles_name_cas = pd.DataFrame(columns=['smiles_name','smiles_cas'])\n",
    "\n",
    "if INFER_SMILES:\n",
    "\n",
    "    overwrite = False # overwrites existing, if it doesn't exit, it creates\n",
    "    \n",
    "    if overwrite:\n",
    "      with open(BASE+\"/Dataset/smiles_name_cas.csv\", 'w') as file:\n",
    "          # Write the string data to the file\n",
    "          file.write('no,smile_name,smile_cas\\n')\n",
    "    \n",
    "    \n",
    "    start = 205054 #included\n",
    "    for row in range(start, df.shape[0]):\n",
    "      if row%1000 == 0 and row != 0:\n",
    "        print(row)\n",
    "        #break\n",
    "      name = df['Name'].iloc[row]\n",
    "      smile_name = cirpy.resolve(name, 'smiles')\n",
    "      cas = df['Cas'].iloc[row]\n",
    "      try:\n",
    "        smile_cas = cirpy.resolve(cas, 'smiles')\n",
    "        if smile_cas is None:\n",
    "          smile_cas = smile_name\n",
    "      except:\n",
    "        smile_cas = smile_name\n",
    "        #print(cas)\n",
    "      #smiles_name_cas.loc[len(smiles_name_cas)] = [smile_name, smile_cas]\n",
    "    \n",
    "      with open(BASE+\"/Dataset/smiles_name_cas.csv\", 'a') as file:\n",
    "        # Write the string data to the file\n",
    "        file.write(f'{row},{smile_name},{smile_cas}\\n')\n",
    "    \n",
    "      if row == start:\n",
    "        print(\"First line decoded\")\n",
    "    \n",
    "    #smiles_name_cas\n",
    "\n",
    "else:\n",
    "    smiles_name_cas=(\n",
    "    pd.DataFrame({'no':[], 'smile_name':[],'smile_cas':[]})\n",
    "    )\n",
    "\n",
    "# try to do it locally batchwise, and write directly to a csv"
   ],
   "outputs": [],
   "execution_count": null
  },
  {
   "cell_type": "markdown",
   "metadata": {
    "id": "PNnblE5Rt0rO"
   },
   "source": [
    "## Merge the newly computed smiles to to df"
   ]
  },
  {
   "cell_type": "code",
   "metadata": {
    "id": "Zl0D-ZzHryLl"
   },
   "source": [
    "if INFER_SMILES or f_original_dataset:\n",
    "    smiles_name_cas = pd.read_csv(BASE+\"/Dataset/smiles_name_cas.csv\")\n",
    "smiles_name_cas.head()"
   ],
   "outputs": [],
   "execution_count": null
  },
  {
   "cell_type": "code",
   "metadata": {
    "colab": {
     "base_uri": "https://localhost:8080/",
     "height": 389
    },
    "id": "zvHI4jRSCL1w",
    "outputId": "b20544af-751d-478f-c822-fdf0f927d85d"
   },
   "source": [
    "df_diff_smiles = pd.concat([df, smiles_name_cas.loc[:, smiles_name_cas.columns != 'no']], axis=1)\n",
    "df_diff_smiles['keep'] = True\n",
    "df_diff_smiles"
   ],
   "outputs": [],
   "execution_count": null
  },
  {
   "cell_type": "code",
   "metadata": {
    "colab": {
     "base_uri": "https://localhost:8080/"
    },
    "id": "w-WX-IK6GG3r",
    "outputId": "87a1bbca-011b-457c-da76-f3a03a7e9b1a"
   },
   "source": [
    "c=0\n",
    "row=0\n",
    "for smile_name, smile_cas in tqdm(zip(df_diff_smiles[\"smile_name\"], df_diff_smiles[\"smile_cas\"])):\n",
    "  #print(smile_name, smile_cas)\n",
    "  if smile_name is not None and smile_cas is not None and not((isinstance(smile_name, float) and math.isnan(smile_name)) or (isinstance(smile_cas, float) and math.isnan(smile_cas))):\n",
    "    if smile_name != smile_cas:\n",
    "      df_diff_smiles.loc[row, 'SMILES'] = smile_cas\n",
    "      c+=1\n",
    "  row+=1\n",
    "\n",
    "print()\n",
    "print(f'{c} rows with different SMILES inferred from name and CAS. The SMILES will be the SMILES inferred from the CAS number.')"
   ],
   "outputs": [],
   "execution_count": null
  },
  {
   "cell_type": "markdown",
   "metadata": {},
   "source": [
    "## Look for mass weights higher than the max"
   ]
  },
  {
   "cell_type": "code",
   "metadata": {},
   "source": [
    "c=0\n",
    "\n",
    "for index, row in tqdm(df_diff_smiles.iterrows()):\n",
    "    mw = row[\"Mw\"]\n",
    "    #print(smile)\n",
    "    #print(j)\n",
    "    if mw > MAX_MW:\n",
    "        c+=1\n",
    "        df_diff_smiles.loc[index, 'keep'] = False\n",
    "\n",
    "print(f'{c} molecules have larger molecular weight than {MAX_MW}. They are going to be removed.')"
   ],
   "outputs": [],
   "execution_count": null
  },
  {
   "cell_type": "markdown",
   "metadata": {
    "id": "F1SafgLNt-UA"
   },
   "source": [
    "## Look for none values"
   ]
  },
  {
   "cell_type": "code",
   "metadata": {
    "colab": {
     "base_uri": "https://localhost:8080/"
    },
    "id": "A1tBrn0NuC00",
    "outputId": "65c62566-72d9-40e9-b355-34102f33185e"
   },
   "source": [
    "c=0\n",
    "for smile_name, smile_cas in tqdm(zip(df_diff_smiles[\"smile_name\"], df_diff_smiles[\"smile_cas\"])):\n",
    "  #print(smile_name, smile_cas)\n",
    "  if smile_name == None and smile_cas == None:\n",
    "    c+=1\n",
    "  if (isinstance(smile_name, float) and math.isnan(smile_name)) and (isinstance(smile_cas, float) and math.isnan(smile_cas)):\n",
    "    c+=1\n",
    "\n",
    "print()\n",
    "print(f'{c} null or NaN values against the original dataframe {nb_invalid_smiles}')"
   ],
   "outputs": [],
   "execution_count": null
  },
  {
   "cell_type": "markdown",
   "metadata": {},
   "source": [
    "## Remove aromatics (optional)"
   ]
  },
  {
   "cell_type": "code",
   "metadata": {},
   "source": [
    "from rdkit import Chem\n",
    "\n",
    "\n",
    "def is_aromatic_from_smiles(smiles):\n",
    "    '''\n",
    "    Check if a molecule contains any aromatic bonds\n",
    "    :param smiles: SMILES string\n",
    "    :return: 1 if the molecule contains aromatic bonds, 0 otherwise and None if the SMILES is invalid\n",
    "    '''\n",
    "    try:\n",
    "        mol = Chem.MolFromSmiles(smiles)\n",
    "        if mol is None:\n",
    "            return None  # Invalid SMILES\n",
    "        # Check if the molecule contains any aromatic bonds\n",
    "        return int(any(bond.GetIsAromatic() for bond in mol.GetBonds()))\n",
    "    except Exception as e:\n",
    "        #print(f\"Error processing SMILES {smiles}: {e}\")\n",
    "        return None"
   ],
   "outputs": [],
   "execution_count": null
  },
  {
   "cell_type": "code",
   "metadata": {},
   "source": [
    "# if a molecule contains aromatic bonds, it will be removed (keep=False)\n",
    "if DELETE_AROMATICS:\n",
    "    \n",
    "    c = 0\n",
    "    for index in tqdm(range(df_diff_smiles.shape[0])):\n",
    "        smiles = df_diff_smiles.iloc[index][\"SMILES\"]\n",
    "        is_aromatic = is_aromatic_from_smiles(smiles)\n",
    "        if is_aromatic:\n",
    "            c += 1\n",
    "            df_diff_smiles.loc[index, 'keep'] = False\n",
    "\n",
    "    print(f'{c} aromatic molecules found. They are going to be removed.')\n",
    "else:\n",
    "    print(\"Aromatic molecules are not going to be removed.\")\n"
   ],
   "outputs": [],
   "execution_count": null
  },
  {
   "cell_type": "markdown",
   "metadata": {
    "id": "Xv9ROmIDx5d2"
   },
   "source": [
    "## Replace the NaN or None smiles"
   ]
  },
  {
   "cell_type": "code",
   "metadata": {},
   "source": [
    "test=(\n",
    "    pd.DataFrame({'a':[1,2,3], 'b':[4,5,6],'d':['a','a','c']})\n",
    "    .assign(c=lambda x: x['a']+x['b'])\n",
    "    .groupby('d').agg(N=('c','count'))\n",
    "    # .loc[lambda qwe:qwe['c']>6]\n",
    "    )\n",
    "test"
   ],
   "outputs": [],
   "execution_count": null
  },
  {
   "cell_type": "code",
   "metadata": {},
   "source": [
    "corrected_df=(\n",
    "    df_diff_smiles\n",
    "    .assign(SMILES=lambda x: x[\"SMILES\"].combine_first(x[\"smile_name\"]).combine_first(x[\"smile_cas\"]))\n",
    "    .loc[lambda df:df['keep']==True]\n",
    "    .drop(columns=['smile_name', 'smile_cas'])\n",
    ")"
   ],
   "outputs": [],
   "execution_count": null
  },
  {
   "cell_type": "code",
   "metadata": {
    "colab": {
     "base_uri": "https://localhost:8080/"
    },
    "id": "0SjW8zs7yoca",
    "outputId": "c039e711-29d9-4541-eb69-3c12b2bca27a"
   },
   "source": [
    "corrected_df = df_diff_smiles.copy(deep=True)\n",
    "\n",
    "#del df_diff_smiles\n",
    "\n",
    "for row in tqdm(range(corrected_df.shape[0])):\n",
    "  #print(corrected_df.iloc[row])\n",
    "  smile = corrected_df.iloc[row]['SMILES']\n",
    "  if smile == None or (isinstance(smile, float) and math.isnan(smile)) or smile == \"\":\n",
    "    smile_name = corrected_df.iloc[row]['smile_name']\n",
    "    smile_cas = corrected_df.iloc[row]['smile_cas']\n",
    "    #print(smile)\n",
    "    if not(smile_cas == None or (isinstance(smile_cas, float) and math.isnan(smile_cas)) or smile_cas == \"\" or smile != smile_cas): # the CAS number is the most reliable, so also replace the SMILES with the CAS number when it is available and different from the original SMILES\n",
    "      corrected_df.loc[row, 'SMILES'] = corrected_df.loc[row, 'smile_cas']\n",
    "      #print(\",\")\n",
    "    elif not(smile_name == None or (isinstance(smile_name, float) and math.isnan(smile_name) or smile_name == \"\")):\n",
    "      corrected_df.loc[row, 'SMILES'] = corrected_df.loc[row, 'smile_name']\n",
    "      #print(\".\", smile_name)\n",
    "    #print(corrected_df.iloc[row]['SMILES'])\n",
    "    #print(\"---\")\n",
    "\n",
    "corrected_df.drop(columns=['smile_name', 'smile_cas'], inplace=True)"
   ],
   "outputs": [],
   "execution_count": null
  },
  {
   "cell_type": "code",
   "metadata": {
    "colab": {
     "base_uri": "https://localhost:8080/",
     "height": 389
    },
    "id": "pzaTO2tCKben",
    "outputId": "24b7388d-98c3-4eca-9c65-18134d084822"
   },
   "source": [
    "corrected_df"
   ],
   "outputs": [],
   "execution_count": null
  },
  {
   "cell_type": "code",
   "metadata": {
    "id": "JPN_AEJl363P"
   },
   "source": [
    "corrected_df.to_csv(BASE+'/Dataset/Mass_spectra/corrected_df.csv', index=False)"
   ],
   "outputs": [],
   "execution_count": null
  },
  {
   "cell_type": "markdown",
   "metadata": {
    "id": "SKlyGiQdjwcP"
   },
   "source": [
    "## Delete the invalid smiles"
   ]
  },
  {
   "cell_type": "code",
   "metadata": {
    "colab": {
     "base_uri": "https://localhost:8080/"
    },
    "id": "sVI_Lyrj3VRT",
    "outputId": "17307794-3211-4172-dd2e-0b9627be7826"
   },
   "source": [
    "c=0\n",
    "d=0\n",
    "e=0\n",
    "f=0\n",
    "\n",
    "\n",
    "for index, row in tqdm(corrected_df.iterrows()):\n",
    "  #print(smile)\n",
    "  #print(j)\n",
    "  smile = row[\"SMILES\"]\n",
    "  if smile == None:\n",
    "    c+=1\n",
    "    corrected_df.loc[index, 'keep'] = False\n",
    "  elif isinstance(smile, float) and math.isnan(smile):\n",
    "    c+=1\n",
    "    corrected_df.loc[index, 'keep'] = False\n",
    "  else:\n",
    "    try:\n",
    "      mol = Chem.MolFromSmiles(smile)\n",
    "      molecular_formula = rdMolDescriptors.CalcMolFormula(mol)\n",
    "      if mol is None:\n",
    "        d+=1\n",
    "        corrected_df.loc[index, 'keep'] = False\n",
    "      elif \".\" in smile:\n",
    "        f+=1\n",
    "        corrected_df.loc[index, 'keep'] = False\n",
    "      elif corrected_df.loc[index, 'Form'] != molecular_formula:\n",
    "        e+=1\n",
    "        corrected_df.loc[index, 'keep'] = False\n",
    "    except:\n",
    "      d+=1\n",
    "      corrected_df.loc[index, 'keep'] = False\n",
    "\n",
    "keep_rows = corrected_df['keep'].tolist()\n",
    "cleaned_df = corrected_df[keep_rows].copy(deep=True)\n",
    "cleaned_df.reset_index(drop=True, inplace=True)\n",
    "\n",
    "invalid_rows = [not x for x in keep_rows]\n",
    "invalid_df = corrected_df[invalid_rows].copy(deep=True)\n",
    "invalid_df.reset_index(drop=True, inplace=True)\n",
    "\n",
    "cleaned_df.drop(columns=['keep'], inplace=True)\n",
    "invalid_df.drop(columns=['keep'], inplace=True)\n",
    "\n",
    "print(f'{c} None or NaN values')\n",
    "print(f'{d} invalid SMILES')\n",
    "print(f'{e} SMILES with different molecular formula')\n",
    "print(f'{f} SMILES with .')\n"
   ],
   "outputs": [],
   "execution_count": null
  },
  {
   "cell_type": "code",
   "metadata": {
    "colab": {
     "base_uri": "https://localhost:8080/",
     "height": 609
    },
    "id": "fYixz9VRKsko",
    "outputId": "4043b9d9-01fb-4394-d730-251c917c7d4e"
   },
   "source": [
    "cleaned_df"
   ],
   "outputs": [],
   "execution_count": null
  },
  {
   "cell_type": "code",
   "metadata": {
    "colab": {
     "base_uri": "https://localhost:8080/",
     "height": 626
    },
    "id": "raLmZ8nxMhmg",
    "outputId": "37a59680-9cb2-46aa-c333-d0ffd52e8a99"
   },
   "source": [
    "invalid_df"
   ],
   "outputs": [],
   "execution_count": null
  },
  {
   "cell_type": "code",
   "metadata": {
    "id": "cER3SEkWmF_A"
   },
   "source": [
    "cleaned_df.to_csv(BASE+'/Dataset/Mass_spectra/cleaned_df.csv', index=False)\n",
    "invalid_df.to_csv(BASE+'/Dataset/Mass_spectra/invalid_df.csv', index=False)"
   ],
   "outputs": [],
   "execution_count": null
  },
  {
   "cell_type": "code",
   "metadata": {
    "colab": {
     "base_uri": "https://localhost:8080/"
    },
    "id": "C1F0qciJkmZS",
    "outputId": "66ed2296-5d78-464f-c67b-b3e0f07149eb"
   },
   "source": [
    "print(cleaned_df[\"SMILES\"].value_counts())"
   ],
   "outputs": [],
   "execution_count": null
  },
  {
   "cell_type": "markdown",
   "metadata": {
    "id": "Xkjzz5tJ6f5s"
   },
   "source": [
    "## See the covariance between the masses"
   ]
  },
  {
   "cell_type": "markdown",
   "metadata": {},
   "source": [
    "# Calculate the covariance matrix\n",
    "cov_matrix = cleaned_df.loc[:, 'mz1':'mz600'].cov()\n",
    "\n",
    "# Plot the covariance matrix\n",
    "plt.figure(figsize=(20, 16))\n",
    "plt.imshow(cov_matrix, cmap='coolwarm', interpolation='none')\n",
    "plt.colorbar(label='Covariance Value')\n",
    "\n",
    "# Add labels\n",
    "plt.xticks(range(len(cov_matrix.columns)), cov_matrix.columns)\n",
    "plt.yticks(range(len(cov_matrix.columns)), cov_matrix.columns)\n",
    "\n",
    "\n",
    "plt.title('Covariance Matrix Heatmap')\n",
    "plt.show()"
   ]
  },
  {
   "cell_type": "markdown",
   "metadata": {
    "id": "wLmekVpaFulP"
   },
   "source": [
    "# Reduce the size"
   ]
  }
 ],
 "metadata": {
  "colab": {
   "provenance": []
  },
  "kernelspec": {
   "display_name": "Python 3 (ipykernel)",
   "language": "python",
   "name": "python3"
  },
  "language_info": {
   "codemirror_mode": {
    "name": "ipython",
    "version": 3
   },
   "file_extension": ".py",
   "mimetype": "text/x-python",
   "name": "python",
   "nbconvert_exporter": "python",
   "pygments_lexer": "ipython3",
   "version": "3.11.8"
  }
 },
 "nbformat": 4,
 "nbformat_minor": 4
}
