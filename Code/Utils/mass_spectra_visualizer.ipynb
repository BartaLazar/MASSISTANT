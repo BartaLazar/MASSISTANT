{
 "cells": [
  {
   "cell_type": "markdown",
   "id": "f071c8a4e3b78583",
   "metadata": {},
   "source": [
    "# Mass spectra visualizer"
   ]
  },
  {
   "cell_type": "code",
   "id": "b6ca50c74a55fc16",
   "metadata": {},
   "source": [
    "%load_ext autoreload\n",
    "%autoreload 2"
   ],
   "outputs": [],
   "execution_count": null
  },
  {
   "cell_type": "code",
   "id": "65d2ad16ce46e29b",
   "metadata": {},
   "source": [
    "from dotenv import load_dotenv\n",
    "import os\n",
    "\n",
    "import pandas as pd\n",
    "import selfies as sf\n",
    "from Code.Utils.util_methods import NNUtils\n",
    "\n",
    "base = NNUtils.find_project_root(os.getcwd())\n",
    "load_dotenv(f'{base}/.env')"
   ],
   "outputs": [],
   "execution_count": null
  },
  {
   "cell_type": "code",
   "id": "2e23c3df85d0d3ab",
   "metadata": {},
   "source": [
    "# Load the cleaned dataset\n",
    "data = pd.read_csv(f'{base}/Dataset/Mass_spectra/cleaned_df.csv')"
   ],
   "outputs": [],
   "execution_count": null
  },
  {
   "cell_type": "code",
   "id": "fbcbffa807c9fb4a",
   "metadata": {},
   "source": [
    "data"
   ],
   "outputs": [],
   "execution_count": null
  },
  {
   "cell_type": "markdown",
   "id": "711dfe3ab9af7e0a",
   "metadata": {},
   "source": [
    "### Select the spectra to visualize"
   ]
  },
  {
   "cell_type": "code",
   "id": "initial_id",
   "metadata": {},
   "source": "smiles = ['CC(C)C1=CC(=O)C=C(C1=O)C(C)C', 'CC(C)C1=CC(=O)C=C(C1=O)C(C)C', 'CC(C)C1=CC(=O)C=C(C1=O)C(C)C'] # example",
   "outputs": [],
   "execution_count": null
  },
  {
   "cell_type": "markdown",
   "id": "f5d590bbee687cff",
   "metadata": {},
   "source": [
    "### Don't change anything below"
   ]
  },
  {
   "cell_type": "code",
   "id": "e5cc0006ce86351c",
   "metadata": {},
   "source": [
    "# selfies\n",
    "selfies = [sf.encoder(s) for s in smiles]\n",
    "selfies"
   ],
   "outputs": [],
   "execution_count": null
  },
  {
   "cell_type": "code",
   "id": "75e3548742385586",
   "metadata": {},
   "source": [
    "# plot the molecules\n",
    "for m in smiles:\n",
    "    print(f'{m} :')\n",
    "    NNUtils.draw_molecule(m)"
   ],
   "outputs": [],
   "execution_count": null
  },
  {
   "cell_type": "code",
   "id": "40286f52ecfa4577",
   "metadata": {},
   "source": [
    "# select lines with the spectra\n",
    "spectra_data = data[data['SMILES'].isin(smiles)].reset_index(drop=True)\n",
    "spectra_data"
   ],
   "outputs": [],
   "execution_count": null
  },
  {
   "cell_type": "code",
   "id": "65494cd0c36611e5",
   "metadata": {},
   "source": [
    "NNUtils.visualize_spectra(spectra_data.iloc[[0]], title='Mass spectra')"
   ],
   "outputs": [],
   "execution_count": null
  },
  {
   "cell_type": "code",
   "id": "da03113aa9c12ec6",
   "metadata": {},
   "source": [
    "s = NNUtils.get_morgan_bits_from_smiles(smiles[0])\n",
    "for key in s:\n",
    "    print(key)\n",
    "    s[key].show()"
   ],
   "outputs": [],
   "execution_count": null
  }
 ],
 "metadata": {
  "kernelspec": {
   "display_name": "Python 3 (ipykernel)",
   "language": "python",
   "name": "python3"
  },
  "language_info": {
   "codemirror_mode": {
    "name": "ipython",
    "version": 3
   },
   "file_extension": ".py",
   "mimetype": "text/x-python",
   "name": "python",
   "nbconvert_exporter": "python",
   "pygments_lexer": "ipython3",
   "version": "3.11.8"
  }
 },
 "nbformat": 4,
 "nbformat_minor": 5
}
