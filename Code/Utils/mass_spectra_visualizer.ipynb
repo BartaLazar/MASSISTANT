{
 "cells": [
  {
   "cell_type": "markdown",
   "id": "f071c8a4e3b78583",
   "metadata": {},
   "source": [
    "# Mass spectra visualizer"
   ]
  },
  {
   "cell_type": "code",
   "execution_count": 1,
   "id": "b6ca50c74a55fc16",
   "metadata": {
    "ExecuteTime": {
     "end_time": "2025-02-03T10:14:46.007996Z",
     "start_time": "2025-02-03T10:14:45.991063Z"
    }
   },
   "outputs": [],
   "source": [
    "%load_ext autoreload\n",
    "%autoreload 2"
   ]
  },
  {
   "cell_type": "code",
   "execution_count": 2,
   "id": "65d2ad16ce46e29b",
   "metadata": {
    "ExecuteTime": {
     "end_time": "2025-02-03T10:14:47.920596Z",
     "start_time": "2025-02-03T10:14:46.104807Z"
    }
   },
   "outputs": [
    {
     "data": {
      "text/plain": [
       "True"
      ]
     },
     "execution_count": 2,
     "metadata": {},
     "output_type": "execute_result"
    }
   ],
   "source": [
    "from dotenv import load_dotenv\n",
    "import os\n",
    "\n",
    "import pandas as pd\n",
    "import selfies as sf\n",
    "from Code.Utils.util_methods import NNUtils\n",
    "\n",
    "base = NNUtils.find_project_root(os.getcwd())\n",
    "load_dotenv(f'{base}/.env')"
   ]
  },
  {
   "cell_type": "code",
   "execution_count": 3,
   "id": "2e23c3df85d0d3ab",
   "metadata": {
    "ExecuteTime": {
     "end_time": "2025-02-03T10:15:01.216318Z",
     "start_time": "2025-02-03T10:14:48.032217Z"
    }
   },
   "outputs": [],
   "source": [
    "# Load the data\n",
    "data = pd.read_csv(f'{base}/Dataset/Mass_spectra/cleaned_df.csv')"
   ]
  },
  {
   "cell_type": "code",
   "execution_count": 4,
   "id": "fbcbffa807c9fb4a",
   "metadata": {
    "ExecuteTime": {
     "end_time": "2025-02-03T10:15:24.107346Z",
     "start_time": "2025-02-03T10:15:23.976653Z"
    }
   },
   "outputs": [
    {
     "data": {
      "text/html": [
       "<div>\n",
       "<style scoped>\n",
       "    .dataframe tbody tr th:only-of-type {\n",
       "        vertical-align: middle;\n",
       "    }\n",
       "\n",
       "    .dataframe tbody tr th {\n",
       "        vertical-align: top;\n",
       "    }\n",
       "\n",
       "    .dataframe thead th {\n",
       "        text-align: right;\n",
       "    }\n",
       "</style>\n",
       "<table border=\"1\" class=\"dataframe\">\n",
       "  <thead>\n",
       "    <tr style=\"text-align: right;\">\n",
       "      <th></th>\n",
       "      <th>Name</th>\n",
       "      <th>Form</th>\n",
       "      <th>Mw</th>\n",
       "      <th>Cas</th>\n",
       "      <th>mz1</th>\n",
       "      <th>mz2</th>\n",
       "      <th>mz3</th>\n",
       "      <th>mz4</th>\n",
       "      <th>mz5</th>\n",
       "      <th>mz6</th>\n",
       "      <th>...</th>\n",
       "      <th>mz593</th>\n",
       "      <th>mz594</th>\n",
       "      <th>mz595</th>\n",
       "      <th>mz596</th>\n",
       "      <th>mz597</th>\n",
       "      <th>mz598</th>\n",
       "      <th>mz599</th>\n",
       "      <th>mz600</th>\n",
       "      <th>Filter_Form</th>\n",
       "      <th>SMILES</th>\n",
       "    </tr>\n",
       "  </thead>\n",
       "  <tbody>\n",
       "    <tr>\n",
       "      <th>0</th>\n",
       "      <td>Ethyl 3-ethoxy-cis-crotonate</td>\n",
       "      <td>C8H14O3</td>\n",
       "      <td>158</td>\n",
       "      <td>5331-73-7</td>\n",
       "      <td>0</td>\n",
       "      <td>0</td>\n",
       "      <td>0</td>\n",
       "      <td>0</td>\n",
       "      <td>0</td>\n",
       "      <td>0</td>\n",
       "      <td>...</td>\n",
       "      <td>0</td>\n",
       "      <td>0</td>\n",
       "      <td>0</td>\n",
       "      <td>0</td>\n",
       "      <td>0</td>\n",
       "      <td>0</td>\n",
       "      <td>0</td>\n",
       "      <td>0</td>\n",
       "      <td>True</td>\n",
       "      <td>CCOC(/C)=C/C(=O)OCC</td>\n",
       "    </tr>\n",
       "    <tr>\n",
       "      <th>1</th>\n",
       "      <td>Ethanone, 1-(3-methyloxiranyl)-</td>\n",
       "      <td>C5H8O2</td>\n",
       "      <td>100</td>\n",
       "      <td>17257-79-3</td>\n",
       "      <td>0</td>\n",
       "      <td>0</td>\n",
       "      <td>0</td>\n",
       "      <td>0</td>\n",
       "      <td>0</td>\n",
       "      <td>0</td>\n",
       "      <td>...</td>\n",
       "      <td>0</td>\n",
       "      <td>0</td>\n",
       "      <td>0</td>\n",
       "      <td>0</td>\n",
       "      <td>0</td>\n",
       "      <td>0</td>\n",
       "      <td>0</td>\n",
       "      <td>0</td>\n",
       "      <td>True</td>\n",
       "      <td>CC1OC1C(C)=O</td>\n",
       "    </tr>\n",
       "    <tr>\n",
       "      <th>2</th>\n",
       "      <td>2-Pentanone, 5-(1,2-propadienyloxy)-</td>\n",
       "      <td>C8H12O2</td>\n",
       "      <td>140</td>\n",
       "      <td>55702-69-7</td>\n",
       "      <td>0</td>\n",
       "      <td>0</td>\n",
       "      <td>0</td>\n",
       "      <td>0</td>\n",
       "      <td>0</td>\n",
       "      <td>0</td>\n",
       "      <td>...</td>\n",
       "      <td>0</td>\n",
       "      <td>0</td>\n",
       "      <td>0</td>\n",
       "      <td>0</td>\n",
       "      <td>0</td>\n",
       "      <td>0</td>\n",
       "      <td>0</td>\n",
       "      <td>0</td>\n",
       "      <td>True</td>\n",
       "      <td>CC(=O)CCCO[CH]=[C]=[CH2]</td>\n",
       "    </tr>\n",
       "    <tr>\n",
       "      <th>3</th>\n",
       "      <td>n-Butyl (1,1-dimethylbutyl) sulfide</td>\n",
       "      <td>C10H22S</td>\n",
       "      <td>174</td>\n",
       "      <td>NaN</td>\n",
       "      <td>0</td>\n",
       "      <td>0</td>\n",
       "      <td>0</td>\n",
       "      <td>0</td>\n",
       "      <td>0</td>\n",
       "      <td>0</td>\n",
       "      <td>...</td>\n",
       "      <td>0</td>\n",
       "      <td>0</td>\n",
       "      <td>0</td>\n",
       "      <td>0</td>\n",
       "      <td>0</td>\n",
       "      <td>0</td>\n",
       "      <td>0</td>\n",
       "      <td>0</td>\n",
       "      <td>True</td>\n",
       "      <td>CCCCSC(C)(C)CCC</td>\n",
       "    </tr>\n",
       "    <tr>\n",
       "      <th>4</th>\n",
       "      <td>Sulfurous acid, isohexyl 2-propyl ester</td>\n",
       "      <td>C9H20O3S</td>\n",
       "      <td>208</td>\n",
       "      <td>NaN</td>\n",
       "      <td>0</td>\n",
       "      <td>0</td>\n",
       "      <td>0</td>\n",
       "      <td>0</td>\n",
       "      <td>0</td>\n",
       "      <td>0</td>\n",
       "      <td>...</td>\n",
       "      <td>0</td>\n",
       "      <td>0</td>\n",
       "      <td>0</td>\n",
       "      <td>0</td>\n",
       "      <td>0</td>\n",
       "      <td>0</td>\n",
       "      <td>0</td>\n",
       "      <td>0</td>\n",
       "      <td>True</td>\n",
       "      <td>CC(C)CCCO[S](=O)OC(C)C</td>\n",
       "    </tr>\n",
       "    <tr>\n",
       "      <th>...</th>\n",
       "      <td>...</td>\n",
       "      <td>...</td>\n",
       "      <td>...</td>\n",
       "      <td>...</td>\n",
       "      <td>...</td>\n",
       "      <td>...</td>\n",
       "      <td>...</td>\n",
       "      <td>...</td>\n",
       "      <td>...</td>\n",
       "      <td>...</td>\n",
       "      <td>...</td>\n",
       "      <td>...</td>\n",
       "      <td>...</td>\n",
       "      <td>...</td>\n",
       "      <td>...</td>\n",
       "      <td>...</td>\n",
       "      <td>...</td>\n",
       "      <td>...</td>\n",
       "      <td>...</td>\n",
       "      <td>...</td>\n",
       "      <td>...</td>\n",
       "    </tr>\n",
       "    <tr>\n",
       "      <th>182511</th>\n",
       "      <td>Cyclopentanemethanamine, 2-amino-</td>\n",
       "      <td>C6H14N2</td>\n",
       "      <td>114</td>\n",
       "      <td>21544-02-5</td>\n",
       "      <td>0</td>\n",
       "      <td>0</td>\n",
       "      <td>0</td>\n",
       "      <td>0</td>\n",
       "      <td>0</td>\n",
       "      <td>0</td>\n",
       "      <td>...</td>\n",
       "      <td>0</td>\n",
       "      <td>0</td>\n",
       "      <td>0</td>\n",
       "      <td>0</td>\n",
       "      <td>0</td>\n",
       "      <td>0</td>\n",
       "      <td>0</td>\n",
       "      <td>0</td>\n",
       "      <td>True</td>\n",
       "      <td>NCC1CCCC1N</td>\n",
       "    </tr>\n",
       "    <tr>\n",
       "      <th>182512</th>\n",
       "      <td>1,6-Hexanediamine</td>\n",
       "      <td>C6H16N2</td>\n",
       "      <td>116</td>\n",
       "      <td>124-09-4</td>\n",
       "      <td>0</td>\n",
       "      <td>0</td>\n",
       "      <td>0</td>\n",
       "      <td>0</td>\n",
       "      <td>0</td>\n",
       "      <td>0</td>\n",
       "      <td>...</td>\n",
       "      <td>0</td>\n",
       "      <td>0</td>\n",
       "      <td>0</td>\n",
       "      <td>0</td>\n",
       "      <td>0</td>\n",
       "      <td>0</td>\n",
       "      <td>0</td>\n",
       "      <td>0</td>\n",
       "      <td>True</td>\n",
       "      <td>NCCCCCCN</td>\n",
       "    </tr>\n",
       "    <tr>\n",
       "      <th>182513</th>\n",
       "      <td>N-n-Butylpropionamide</td>\n",
       "      <td>C7H15NO</td>\n",
       "      <td>129</td>\n",
       "      <td>2955-67-1</td>\n",
       "      <td>0</td>\n",
       "      <td>0</td>\n",
       "      <td>0</td>\n",
       "      <td>0</td>\n",
       "      <td>0</td>\n",
       "      <td>0</td>\n",
       "      <td>...</td>\n",
       "      <td>0</td>\n",
       "      <td>0</td>\n",
       "      <td>0</td>\n",
       "      <td>0</td>\n",
       "      <td>0</td>\n",
       "      <td>0</td>\n",
       "      <td>0</td>\n",
       "      <td>0</td>\n",
       "      <td>True</td>\n",
       "      <td>CCCCNC(=O)CC</td>\n",
       "    </tr>\n",
       "    <tr>\n",
       "      <th>182514</th>\n",
       "      <td>Propanamide, N-hexyl-</td>\n",
       "      <td>C9H19NO</td>\n",
       "      <td>157</td>\n",
       "      <td>10264-24-1</td>\n",
       "      <td>0</td>\n",
       "      <td>0</td>\n",
       "      <td>0</td>\n",
       "      <td>0</td>\n",
       "      <td>0</td>\n",
       "      <td>0</td>\n",
       "      <td>...</td>\n",
       "      <td>0</td>\n",
       "      <td>0</td>\n",
       "      <td>0</td>\n",
       "      <td>0</td>\n",
       "      <td>0</td>\n",
       "      <td>0</td>\n",
       "      <td>0</td>\n",
       "      <td>0</td>\n",
       "      <td>True</td>\n",
       "      <td>CCCCCCNC(=O)CC</td>\n",
       "    </tr>\n",
       "    <tr>\n",
       "      <th>182515</th>\n",
       "      <td>Propanamide, N-(2-hydroxyethyl)-</td>\n",
       "      <td>C5H11NO2</td>\n",
       "      <td>117</td>\n",
       "      <td>18266-55-2</td>\n",
       "      <td>0</td>\n",
       "      <td>0</td>\n",
       "      <td>0</td>\n",
       "      <td>0</td>\n",
       "      <td>0</td>\n",
       "      <td>0</td>\n",
       "      <td>...</td>\n",
       "      <td>0</td>\n",
       "      <td>0</td>\n",
       "      <td>0</td>\n",
       "      <td>0</td>\n",
       "      <td>0</td>\n",
       "      <td>0</td>\n",
       "      <td>0</td>\n",
       "      <td>0</td>\n",
       "      <td>True</td>\n",
       "      <td>CCC(=O)NCCO</td>\n",
       "    </tr>\n",
       "  </tbody>\n",
       "</table>\n",
       "<p>182516 rows × 606 columns</p>\n",
       "</div>"
      ],
      "text/plain": [
       "                                           Name      Form   Mw         Cas  \\\n",
       "0                  Ethyl 3-ethoxy-cis-crotonate   C8H14O3  158   5331-73-7   \n",
       "1               Ethanone, 1-(3-methyloxiranyl)-    C5H8O2  100  17257-79-3   \n",
       "2          2-Pentanone, 5-(1,2-propadienyloxy)-   C8H12O2  140  55702-69-7   \n",
       "3           n-Butyl (1,1-dimethylbutyl) sulfide   C10H22S  174         NaN   \n",
       "4       Sulfurous acid, isohexyl 2-propyl ester  C9H20O3S  208         NaN   \n",
       "...                                         ...       ...  ...         ...   \n",
       "182511        Cyclopentanemethanamine, 2-amino-   C6H14N2  114  21544-02-5   \n",
       "182512                        1,6-Hexanediamine   C6H16N2  116    124-09-4   \n",
       "182513                    N-n-Butylpropionamide   C7H15NO  129   2955-67-1   \n",
       "182514                    Propanamide, N-hexyl-   C9H19NO  157  10264-24-1   \n",
       "182515         Propanamide, N-(2-hydroxyethyl)-  C5H11NO2  117  18266-55-2   \n",
       "\n",
       "        mz1  mz2  mz3  mz4  mz5  mz6  ...  mz593  mz594  mz595  mz596  mz597  \\\n",
       "0         0    0    0    0    0    0  ...      0      0      0      0      0   \n",
       "1         0    0    0    0    0    0  ...      0      0      0      0      0   \n",
       "2         0    0    0    0    0    0  ...      0      0      0      0      0   \n",
       "3         0    0    0    0    0    0  ...      0      0      0      0      0   \n",
       "4         0    0    0    0    0    0  ...      0      0      0      0      0   \n",
       "...     ...  ...  ...  ...  ...  ...  ...    ...    ...    ...    ...    ...   \n",
       "182511    0    0    0    0    0    0  ...      0      0      0      0      0   \n",
       "182512    0    0    0    0    0    0  ...      0      0      0      0      0   \n",
       "182513    0    0    0    0    0    0  ...      0      0      0      0      0   \n",
       "182514    0    0    0    0    0    0  ...      0      0      0      0      0   \n",
       "182515    0    0    0    0    0    0  ...      0      0      0      0      0   \n",
       "\n",
       "        mz598  mz599  mz600  Filter_Form                    SMILES  \n",
       "0           0      0      0         True       CCOC(/C)=C/C(=O)OCC  \n",
       "1           0      0      0         True              CC1OC1C(C)=O  \n",
       "2           0      0      0         True  CC(=O)CCCO[CH]=[C]=[CH2]  \n",
       "3           0      0      0         True           CCCCSC(C)(C)CCC  \n",
       "4           0      0      0         True    CC(C)CCCO[S](=O)OC(C)C  \n",
       "...       ...    ...    ...          ...                       ...  \n",
       "182511      0      0      0         True                NCC1CCCC1N  \n",
       "182512      0      0      0         True                  NCCCCCCN  \n",
       "182513      0      0      0         True              CCCCNC(=O)CC  \n",
       "182514      0      0      0         True            CCCCCCNC(=O)CC  \n",
       "182515      0      0      0         True               CCC(=O)NCCO  \n",
       "\n",
       "[182516 rows x 606 columns]"
      ]
     },
     "execution_count": 4,
     "metadata": {},
     "output_type": "execute_result"
    }
   ],
   "source": [
    "data"
   ]
  },
  {
   "cell_type": "markdown",
   "id": "711dfe3ab9af7e0a",
   "metadata": {},
   "source": [
    "### Select the spectra to visualize"
   ]
  },
  {
   "cell_type": "code",
   "execution_count": 27,
   "id": "initial_id",
   "metadata": {
    "ExecuteTime": {
     "end_time": "2025-02-03T10:15:01.270223Z",
     "start_time": "2025-02-03T10:15:01.245334Z"
    }
   },
   "outputs": [],
   "source": [
    "#smiles = ['C(/C)=CO']\n",
    "smiles = ['COC(=O)[C@@H1]1CC[C@H1]2[C@@H1]3CC[C@H1]4C[C@@H1](CC[C@]4(C)[C@H1]3[C@H1](OC(C)=O)[C@H1](O)[C@]12C)OC(C)=O']"
   ]
  },
  {
   "cell_type": "markdown",
   "id": "f5d590bbee687cff",
   "metadata": {},
   "source": [
    "### Don't change anything below"
   ]
  },
  {
   "cell_type": "code",
   "execution_count": 28,
   "id": "e5cc0006ce86351c",
   "metadata": {
    "ExecuteTime": {
     "end_time": "2025-02-03T10:15:01.328554Z",
     "start_time": "2025-02-03T10:15:01.298590Z"
    }
   },
   "outputs": [
    {
     "data": {
      "text/plain": [
       "['[C][O][C][=Branch1][C][=O][C@@H1][C][C][C@H1][C@@H1][C][C][C@H1][C][C@@H1][Branch2][Ring1][P][C][C][C@][Ring1][=Branch1][Branch1][C][C][C@H1][Ring1][O][C@H1][Branch1][#Branch1][O][C][Branch1][C][C][=O][C@H1][Branch1][C][O][C@][Ring2][Ring1][#Branch1][Ring2][Ring1][Ring2][C][O][C][Branch1][C][C][=O]']"
      ]
     },
     "execution_count": 28,
     "metadata": {},
     "output_type": "execute_result"
    }
   ],
   "source": [
    "# selfies\n",
    "selfies = [sf.encoder(s) for s in smiles]\n",
    "selfies"
   ]
  },
  {
   "cell_type": "code",
   "execution_count": 29,
   "id": "75e3548742385586",
   "metadata": {
    "ExecuteTime": {
     "end_time": "2025-02-03T10:15:01.431442Z",
     "start_time": "2025-02-03T10:15:01.379125Z"
    }
   },
   "outputs": [
    {
     "name": "stdout",
     "output_type": "stream",
     "text": [
      "COC(=O)[C@@H1]1CC[C@H1]2[C@@H1]3CC[C@H1]4C[C@@H1](CC[C@]4(C)[C@H1]3[C@H1](OC(C)=O)[C@H1](O)[C@]12C)OC(C)=O :\n"
     ]
    },
    {
     "data": {
      "image/jpeg": "[encoded data removed]",
      "image/png": "[encoded data removed]",
      "text/plain": [
       "<PIL.PngImagePlugin.PngImageFile image mode=RGB size=300x300>"
      ]
     },
     "metadata": {},
     "output_type": "display_data"
    }
   ],
   "source": [
    "# plot the molecules\n",
    "for m in smiles:\n",
    "    print(f'{m} :')\n",
    "    NNUtils.draw_molecule(m)"
   ]
  },
  {
   "cell_type": "code",
   "execution_count": 30,
   "id": "40286f52ecfa4577",
   "metadata": {
    "ExecuteTime": {
     "end_time": "2025-02-03T10:15:01.642143Z",
     "start_time": "2025-02-03T10:15:01.597177Z"
    }
   },
   "outputs": [
    {
     "data": {
      "text/html": [
       "<div>\n",
       "<style scoped>\n",
       "    .dataframe tbody tr th:only-of-type {\n",
       "        vertical-align: middle;\n",
       "    }\n",
       "\n",
       "    .dataframe tbody tr th {\n",
       "        vertical-align: top;\n",
       "    }\n",
       "\n",
       "    .dataframe thead th {\n",
       "        text-align: right;\n",
       "    }\n",
       "</style>\n",
       "<table border=\"1\" class=\"dataframe\">\n",
       "  <thead>\n",
       "    <tr style=\"text-align: right;\">\n",
       "      <th></th>\n",
       "      <th>Name</th>\n",
       "      <th>Form</th>\n",
       "      <th>Mw</th>\n",
       "      <th>Cas</th>\n",
       "      <th>mz1</th>\n",
       "      <th>mz2</th>\n",
       "      <th>mz3</th>\n",
       "      <th>mz4</th>\n",
       "      <th>mz5</th>\n",
       "      <th>mz6</th>\n",
       "      <th>...</th>\n",
       "      <th>mz593</th>\n",
       "      <th>mz594</th>\n",
       "      <th>mz595</th>\n",
       "      <th>mz596</th>\n",
       "      <th>mz597</th>\n",
       "      <th>mz598</th>\n",
       "      <th>mz599</th>\n",
       "      <th>mz600</th>\n",
       "      <th>Filter_Form</th>\n",
       "      <th>SMILES</th>\n",
       "    </tr>\n",
       "  </thead>\n",
       "  <tbody>\n",
       "  </tbody>\n",
       "</table>\n",
       "<p>0 rows × 606 columns</p>\n",
       "</div>"
      ],
      "text/plain": [
       "Empty DataFrame\n",
       "Columns: [Name, Form, Mw, Cas, mz1, mz2, mz3, mz4, mz5, mz6, mz7, mz8, mz9, mz10, mz11, mz12, mz13, mz14, mz15, mz16, mz17, mz18, mz19, mz20, mz21, mz22, mz23, mz24, mz25, mz26, mz27, mz28, mz29, mz30, mz31, mz32, mz33, mz34, mz35, mz36, mz37, mz38, mz39, mz40, mz41, mz42, mz43, mz44, mz45, mz46, mz47, mz48, mz49, mz50, mz51, mz52, mz53, mz54, mz55, mz56, mz57, mz58, mz59, mz60, mz61, mz62, mz63, mz64, mz65, mz66, mz67, mz68, mz69, mz70, mz71, mz72, mz73, mz74, mz75, mz76, mz77, mz78, mz79, mz80, mz81, mz82, mz83, mz84, mz85, mz86, mz87, mz88, mz89, mz90, mz91, mz92, mz93, mz94, mz95, mz96, ...]\n",
       "Index: []\n",
       "\n",
       "[0 rows x 606 columns]"
      ]
     },
     "execution_count": 30,
     "metadata": {},
     "output_type": "execute_result"
    }
   ],
   "source": [
    "# select lines with the spectra\n",
    "spectra_data = data[data['SMILES'].isin(smiles)].reset_index(drop=True)\n",
    "spectra_data"
   ]
  },
  {
   "cell_type": "code",
   "execution_count": null,
   "id": "65494cd0c36611e5",
   "metadata": {
    "ExecuteTime": {
     "end_time": "2025-02-03T10:15:02.737582Z",
     "start_time": "2025-02-03T10:15:01.778923Z"
    }
   },
   "outputs": [],
   "source": [
    "NNUtils.visualize_spectra(spectra_data.iloc[[0]], title='Mass spectra')"
   ]
  },
  {
   "cell_type": "code",
   "execution_count": null,
   "id": "da03113aa9c12ec6",
   "metadata": {
    "ExecuteTime": {
     "end_time": "2025-02-03T10:15:04.414538200Z",
     "start_time": "2024-11-20T17:46:41.206446Z"
    }
   },
   "outputs": [],
   "source": [
    "s = NNUtils.get_morgan_bits_from_smiles(smiles[0])\n",
    "for key in s:\n",
    "    print(key)\n",
    "    s[key].show()"
   ]
  }
 ],
 "metadata": {
  "kernelspec": {
   "display_name": "Python 3 (ipykernel)",
   "language": "python",
   "name": "python3"
  },
  "language_info": {
   "codemirror_mode": {
    "name": "ipython",
    "version": 3
   },
   "file_extension": ".py",
   "mimetype": "text/x-python",
   "name": "python",
   "nbconvert_exporter": "python",
   "pygments_lexer": "ipython3",
   "version": "3.11.8"
  }
 },
 "nbformat": 4,
 "nbformat_minor": 5
}
