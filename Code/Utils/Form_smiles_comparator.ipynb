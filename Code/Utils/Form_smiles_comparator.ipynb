{
 "cells": [
  {
   "metadata": {},
   "cell_type": "markdown",
   "source": "PKL reader",
   "id": "91b923386e3f4fca"
  },
  {
   "metadata": {
    "ExecuteTime": {
     "end_time": "2025-01-20T09:47:46.858382Z",
     "start_time": "2025-01-20T09:47:46.828873Z"
    }
   },
   "cell_type": "code",
   "source": [
    "from Code.Utils.util_methods import NNUtils\n",
    "%load_ext autoreload\n",
    "%autoreload 2"
   ],
   "id": "d07266362a950c74",
   "outputs": [
    {
     "name": "stdout",
     "output_type": "stream",
     "text": [
      "The autoreload extension is already loaded. To reload it, use:\n",
      "  %reload_ext autoreload\n"
     ]
    }
   ],
   "execution_count": 36
  },
  {
   "metadata": {
    "ExecuteTime": {
     "end_time": "2025-01-20T09:47:46.957050Z",
     "start_time": "2025-01-20T09:47:46.945220Z"
    }
   },
   "cell_type": "code",
   "source": [
    "import os\n",
    "import pandas as pd\n",
    "from rdkit import Chem\n",
    "from rdkit.Chem import rdMolDescriptors\n",
    "from tqdm import tqdm\n",
    "\n",
    "\n",
    "cwd = os.getcwd()\n",
    "base = f'{cwd}/../..'"
   ],
   "id": "2170d3c63cc9cf29",
   "outputs": [],
   "execution_count": 37
  },
  {
   "metadata": {},
   "cell_type": "markdown",
   "source": "## Give the path to the pkl file",
   "id": "f1ae4ca1bab540ae"
  },
  {
   "cell_type": "code",
   "id": "initial_id",
   "metadata": {
    "collapsed": true,
    "ExecuteTime": {
     "end_time": "2025-01-20T09:47:47.018373Z",
     "start_time": "2025-01-20T09:47:47.005998Z"
    }
   },
   "source": [
    "FILEPATH = f'{base}/Dataset/Mass_spectra/cleaned_df.csv'\n",
    "FILTER_COLUMNS = ['Name', 'Form', 'Mw', 'SMILES']\n",
    "#FILTER_COLUMNS = None"
   ],
   "outputs": [],
   "execution_count": 38
  },
  {
   "metadata": {},
   "cell_type": "markdown",
   "source": "## Extract the pkl file into a df",
   "id": "ce07999e898a2920"
  },
  {
   "metadata": {
    "ExecuteTime": {
     "end_time": "2025-01-20T09:47:55.484209Z",
     "start_time": "2025-01-20T09:47:47.056783Z"
    }
   },
   "cell_type": "code",
   "source": "df = NNUtils.read_big_csv(FILEPATH)",
   "id": "19f40fd1a2e0c8e4",
   "outputs": [
    {
     "name": "stderr",
     "output_type": "stream",
     "text": [
      "Reading CSV file cleaned_df.csv: 183it [00:08, 22.26it/s]\n"
     ]
    }
   ],
   "execution_count": 39
  },
  {
   "metadata": {
    "ExecuteTime": {
     "end_time": "2025-01-20T09:47:55.530019Z",
     "start_time": "2025-01-20T09:47:55.499948Z"
    }
   },
   "cell_type": "code",
   "source": [
    "if FILTER_COLUMNS:\n",
    "    df = df[FILTER_COLUMNS]\n",
    "print(df.shape)\n",
    "df"
   ],
   "id": "9ebdc8efef574b2c",
   "outputs": [
    {
     "name": "stdout",
     "output_type": "stream",
     "text": [
      "(182516, 4)\n"
     ]
    },
    {
     "data": {
      "text/plain": [
       "                                           Name      Form   Mw  \\\n",
       "0                  Ethyl 3-ethoxy-cis-crotonate   C8H14O3  158   \n",
       "1               Ethanone, 1-(3-methyloxiranyl)-    C5H8O2  100   \n",
       "2          2-Pentanone, 5-(1,2-propadienyloxy)-   C8H12O2  140   \n",
       "3           n-Butyl (1,1-dimethylbutyl) sulfide   C10H22S  174   \n",
       "4       Sulfurous acid, isohexyl 2-propyl ester  C9H20O3S  208   \n",
       "...                                         ...       ...  ...   \n",
       "182511        Cyclopentanemethanamine, 2-amino-   C6H14N2  114   \n",
       "182512                        1,6-Hexanediamine   C6H16N2  116   \n",
       "182513                    N-n-Butylpropionamide   C7H15NO  129   \n",
       "182514                    Propanamide, N-hexyl-   C9H19NO  157   \n",
       "182515         Propanamide, N-(2-hydroxyethyl)-  C5H11NO2  117   \n",
       "\n",
       "                          SMILES  \n",
       "0            CCOC(/C)=C/C(=O)OCC  \n",
       "1                   CC1OC1C(C)=O  \n",
       "2       CC(=O)CCCO[CH]=[C]=[CH2]  \n",
       "3                CCCCSC(C)(C)CCC  \n",
       "4         CC(C)CCCO[S](=O)OC(C)C  \n",
       "...                          ...  \n",
       "182511                NCC1CCCC1N  \n",
       "182512                  NCCCCCCN  \n",
       "182513              CCCCNC(=O)CC  \n",
       "182514            CCCCCCNC(=O)CC  \n",
       "182515               CCC(=O)NCCO  \n",
       "\n",
       "[182516 rows x 4 columns]"
      ],
      "text/html": [
       "<div>\n",
       "<style scoped>\n",
       "    .dataframe tbody tr th:only-of-type {\n",
       "        vertical-align: middle;\n",
       "    }\n",
       "\n",
       "    .dataframe tbody tr th {\n",
       "        vertical-align: top;\n",
       "    }\n",
       "\n",
       "    .dataframe thead th {\n",
       "        text-align: right;\n",
       "    }\n",
       "</style>\n",
       "<table border=\"1\" class=\"dataframe\">\n",
       "  <thead>\n",
       "    <tr style=\"text-align: right;\">\n",
       "      <th></th>\n",
       "      <th>Name</th>\n",
       "      <th>Form</th>\n",
       "      <th>Mw</th>\n",
       "      <th>SMILES</th>\n",
       "    </tr>\n",
       "  </thead>\n",
       "  <tbody>\n",
       "    <tr>\n",
       "      <th>0</th>\n",
       "      <td>Ethyl 3-ethoxy-cis-crotonate</td>\n",
       "      <td>C8H14O3</td>\n",
       "      <td>158</td>\n",
       "      <td>CCOC(/C)=C/C(=O)OCC</td>\n",
       "    </tr>\n",
       "    <tr>\n",
       "      <th>1</th>\n",
       "      <td>Ethanone, 1-(3-methyloxiranyl)-</td>\n",
       "      <td>C5H8O2</td>\n",
       "      <td>100</td>\n",
       "      <td>CC1OC1C(C)=O</td>\n",
       "    </tr>\n",
       "    <tr>\n",
       "      <th>2</th>\n",
       "      <td>2-Pentanone, 5-(1,2-propadienyloxy)-</td>\n",
       "      <td>C8H12O2</td>\n",
       "      <td>140</td>\n",
       "      <td>CC(=O)CCCO[CH]=[C]=[CH2]</td>\n",
       "    </tr>\n",
       "    <tr>\n",
       "      <th>3</th>\n",
       "      <td>n-Butyl (1,1-dimethylbutyl) sulfide</td>\n",
       "      <td>C10H22S</td>\n",
       "      <td>174</td>\n",
       "      <td>CCCCSC(C)(C)CCC</td>\n",
       "    </tr>\n",
       "    <tr>\n",
       "      <th>4</th>\n",
       "      <td>Sulfurous acid, isohexyl 2-propyl ester</td>\n",
       "      <td>C9H20O3S</td>\n",
       "      <td>208</td>\n",
       "      <td>CC(C)CCCO[S](=O)OC(C)C</td>\n",
       "    </tr>\n",
       "    <tr>\n",
       "      <th>...</th>\n",
       "      <td>...</td>\n",
       "      <td>...</td>\n",
       "      <td>...</td>\n",
       "      <td>...</td>\n",
       "    </tr>\n",
       "    <tr>\n",
       "      <th>182511</th>\n",
       "      <td>Cyclopentanemethanamine, 2-amino-</td>\n",
       "      <td>C6H14N2</td>\n",
       "      <td>114</td>\n",
       "      <td>NCC1CCCC1N</td>\n",
       "    </tr>\n",
       "    <tr>\n",
       "      <th>182512</th>\n",
       "      <td>1,6-Hexanediamine</td>\n",
       "      <td>C6H16N2</td>\n",
       "      <td>116</td>\n",
       "      <td>NCCCCCCN</td>\n",
       "    </tr>\n",
       "    <tr>\n",
       "      <th>182513</th>\n",
       "      <td>N-n-Butylpropionamide</td>\n",
       "      <td>C7H15NO</td>\n",
       "      <td>129</td>\n",
       "      <td>CCCCNC(=O)CC</td>\n",
       "    </tr>\n",
       "    <tr>\n",
       "      <th>182514</th>\n",
       "      <td>Propanamide, N-hexyl-</td>\n",
       "      <td>C9H19NO</td>\n",
       "      <td>157</td>\n",
       "      <td>CCCCCCNC(=O)CC</td>\n",
       "    </tr>\n",
       "    <tr>\n",
       "      <th>182515</th>\n",
       "      <td>Propanamide, N-(2-hydroxyethyl)-</td>\n",
       "      <td>C5H11NO2</td>\n",
       "      <td>117</td>\n",
       "      <td>CCC(=O)NCCO</td>\n",
       "    </tr>\n",
       "  </tbody>\n",
       "</table>\n",
       "<p>182516 rows × 4 columns</p>\n",
       "</div>"
      ]
     },
     "execution_count": 40,
     "metadata": {},
     "output_type": "execute_result"
    }
   ],
   "execution_count": 40
  },
  {
   "metadata": {
    "ExecuteTime": {
     "end_time": "2025-01-20T09:48:30.300210Z",
     "start_time": "2025-01-20T09:47:55.621278Z"
    }
   },
   "cell_type": "code",
   "source": [
    "df['smile_form_match'] = 99 # -2 means contains . and no match -1 means incorrect form 0 means no match 1 means match\n",
    "df['new_form'] = df['Form']\n",
    "\n",
    "c=0\n",
    "\n",
    "for index in tqdm(range(df.shape[0])):\n",
    "\n",
    "    # convert smiles to a molecule object\n",
    "    if df.loc[index, 'SMILES'] is None:\n",
    "        continue\n",
    "    \n",
    "    mol = Chem.MolFromSmiles(df.loc[index, 'SMILES'])\n",
    "    if \".\" in df.loc[index, 'SMILES']:\n",
    "        c+=1\n",
    "    \n",
    "    # check if the molecule is valid\n",
    "    if mol:\n",
    "        # calculate the molecular formula\n",
    "        molecular_formula = rdMolDescriptors.CalcMolFormula(mol)\n",
    "        if molecular_formula == df.loc[index, 'Form']:\n",
    "            df.loc[index, 'smile_form_match'] = 1\n",
    "        elif \".\" in df.loc[index, 'SMILES']:\n",
    "            df.loc[index, 'smile_form_match'] = -2\n",
    "        else:\n",
    "            df.loc[index, 'smile_form_match'] = 0\n",
    "            df.loc[index, 'new_form'] = molecular_formula\n",
    "    else:\n",
    "        df.loc[index, 'smile_form_match'] = -1\n",
    "        \n",
    "print(f'{c} molecules contain .')"
   ],
   "id": "30bc35d1d072e217",
   "outputs": [
    {
     "name": "stderr",
     "output_type": "stream",
     "text": [
      " 67%|██████▋   | 122771/182516 [00:24<00:10, 5640.51it/s][10:48:19] Conflicting single bond directions around double bond at index 4.\n",
      "[10:48:19]   BondStereo set to STEREONONE and single bond directions set to NONE.\n",
      "100%|██████████| 182516/182516 [00:34<00:00, 5265.55it/s]"
     ]
    },
    {
     "name": "stdout",
     "output_type": "stream",
     "text": [
      "0 molecules contain .\n"
     ]
    },
    {
     "name": "stderr",
     "output_type": "stream",
     "text": [
      "\n"
     ]
    }
   ],
   "execution_count": 41
  },
  {
   "metadata": {
    "ExecuteTime": {
     "end_time": "2025-01-20T09:48:34.644820Z",
     "start_time": "2025-01-20T09:48:34.626601Z"
    }
   },
   "cell_type": "code",
   "source": "df[df['smile_form_match'] == -2]",
   "id": "f96d0793b85250d6",
   "outputs": [
    {
     "data": {
      "text/plain": [
       "Empty DataFrame\n",
       "Columns: [Name, Form, Mw, SMILES, smile_form_match, new_form]\n",
       "Index: []"
      ],
      "text/html": [
       "<div>\n",
       "<style scoped>\n",
       "    .dataframe tbody tr th:only-of-type {\n",
       "        vertical-align: middle;\n",
       "    }\n",
       "\n",
       "    .dataframe tbody tr th {\n",
       "        vertical-align: top;\n",
       "    }\n",
       "\n",
       "    .dataframe thead th {\n",
       "        text-align: right;\n",
       "    }\n",
       "</style>\n",
       "<table border=\"1\" class=\"dataframe\">\n",
       "  <thead>\n",
       "    <tr style=\"text-align: right;\">\n",
       "      <th></th>\n",
       "      <th>Name</th>\n",
       "      <th>Form</th>\n",
       "      <th>Mw</th>\n",
       "      <th>SMILES</th>\n",
       "      <th>smile_form_match</th>\n",
       "      <th>new_form</th>\n",
       "    </tr>\n",
       "  </thead>\n",
       "  <tbody>\n",
       "  </tbody>\n",
       "</table>\n",
       "</div>"
      ]
     },
     "execution_count": 44,
     "metadata": {},
     "output_type": "execute_result"
    }
   ],
   "execution_count": 44
  },
  {
   "metadata": {
    "ExecuteTime": {
     "end_time": "2025-01-20T09:48:39.581512Z",
     "start_time": "2025-01-20T09:48:39.547004Z"
    }
   },
   "cell_type": "code",
   "source": "df[df['smile_form_match'] == 1]",
   "id": "14c87c4ad9cb1429",
   "outputs": [
    {
     "data": {
      "text/plain": [
       "                                           Name      Form   Mw  \\\n",
       "0                  Ethyl 3-ethoxy-cis-crotonate   C8H14O3  158   \n",
       "1               Ethanone, 1-(3-methyloxiranyl)-    C5H8O2  100   \n",
       "2          2-Pentanone, 5-(1,2-propadienyloxy)-   C8H12O2  140   \n",
       "3           n-Butyl (1,1-dimethylbutyl) sulfide   C10H22S  174   \n",
       "4       Sulfurous acid, isohexyl 2-propyl ester  C9H20O3S  208   \n",
       "...                                         ...       ...  ...   \n",
       "182511        Cyclopentanemethanamine, 2-amino-   C6H14N2  114   \n",
       "182512                        1,6-Hexanediamine   C6H16N2  116   \n",
       "182513                    N-n-Butylpropionamide   C7H15NO  129   \n",
       "182514                    Propanamide, N-hexyl-   C9H19NO  157   \n",
       "182515         Propanamide, N-(2-hydroxyethyl)-  C5H11NO2  117   \n",
       "\n",
       "                          SMILES  smile_form_match  new_form  \n",
       "0            CCOC(/C)=C/C(=O)OCC                 1   C8H14O3  \n",
       "1                   CC1OC1C(C)=O                 1    C5H8O2  \n",
       "2       CC(=O)CCCO[CH]=[C]=[CH2]                 1   C8H12O2  \n",
       "3                CCCCSC(C)(C)CCC                 1   C10H22S  \n",
       "4         CC(C)CCCO[S](=O)OC(C)C                 1  C9H20O3S  \n",
       "...                          ...               ...       ...  \n",
       "182511                NCC1CCCC1N                 1   C6H14N2  \n",
       "182512                  NCCCCCCN                 1   C6H16N2  \n",
       "182513              CCCCNC(=O)CC                 1   C7H15NO  \n",
       "182514            CCCCCCNC(=O)CC                 1   C9H19NO  \n",
       "182515               CCC(=O)NCCO                 1  C5H11NO2  \n",
       "\n",
       "[182516 rows x 6 columns]"
      ],
      "text/html": [
       "<div>\n",
       "<style scoped>\n",
       "    .dataframe tbody tr th:only-of-type {\n",
       "        vertical-align: middle;\n",
       "    }\n",
       "\n",
       "    .dataframe tbody tr th {\n",
       "        vertical-align: top;\n",
       "    }\n",
       "\n",
       "    .dataframe thead th {\n",
       "        text-align: right;\n",
       "    }\n",
       "</style>\n",
       "<table border=\"1\" class=\"dataframe\">\n",
       "  <thead>\n",
       "    <tr style=\"text-align: right;\">\n",
       "      <th></th>\n",
       "      <th>Name</th>\n",
       "      <th>Form</th>\n",
       "      <th>Mw</th>\n",
       "      <th>SMILES</th>\n",
       "      <th>smile_form_match</th>\n",
       "      <th>new_form</th>\n",
       "    </tr>\n",
       "  </thead>\n",
       "  <tbody>\n",
       "    <tr>\n",
       "      <th>0</th>\n",
       "      <td>Ethyl 3-ethoxy-cis-crotonate</td>\n",
       "      <td>C8H14O3</td>\n",
       "      <td>158</td>\n",
       "      <td>CCOC(/C)=C/C(=O)OCC</td>\n",
       "      <td>1</td>\n",
       "      <td>C8H14O3</td>\n",
       "    </tr>\n",
       "    <tr>\n",
       "      <th>1</th>\n",
       "      <td>Ethanone, 1-(3-methyloxiranyl)-</td>\n",
       "      <td>C5H8O2</td>\n",
       "      <td>100</td>\n",
       "      <td>CC1OC1C(C)=O</td>\n",
       "      <td>1</td>\n",
       "      <td>C5H8O2</td>\n",
       "    </tr>\n",
       "    <tr>\n",
       "      <th>2</th>\n",
       "      <td>2-Pentanone, 5-(1,2-propadienyloxy)-</td>\n",
       "      <td>C8H12O2</td>\n",
       "      <td>140</td>\n",
       "      <td>CC(=O)CCCO[CH]=[C]=[CH2]</td>\n",
       "      <td>1</td>\n",
       "      <td>C8H12O2</td>\n",
       "    </tr>\n",
       "    <tr>\n",
       "      <th>3</th>\n",
       "      <td>n-Butyl (1,1-dimethylbutyl) sulfide</td>\n",
       "      <td>C10H22S</td>\n",
       "      <td>174</td>\n",
       "      <td>CCCCSC(C)(C)CCC</td>\n",
       "      <td>1</td>\n",
       "      <td>C10H22S</td>\n",
       "    </tr>\n",
       "    <tr>\n",
       "      <th>4</th>\n",
       "      <td>Sulfurous acid, isohexyl 2-propyl ester</td>\n",
       "      <td>C9H20O3S</td>\n",
       "      <td>208</td>\n",
       "      <td>CC(C)CCCO[S](=O)OC(C)C</td>\n",
       "      <td>1</td>\n",
       "      <td>C9H20O3S</td>\n",
       "    </tr>\n",
       "    <tr>\n",
       "      <th>...</th>\n",
       "      <td>...</td>\n",
       "      <td>...</td>\n",
       "      <td>...</td>\n",
       "      <td>...</td>\n",
       "      <td>...</td>\n",
       "      <td>...</td>\n",
       "    </tr>\n",
       "    <tr>\n",
       "      <th>182511</th>\n",
       "      <td>Cyclopentanemethanamine, 2-amino-</td>\n",
       "      <td>C6H14N2</td>\n",
       "      <td>114</td>\n",
       "      <td>NCC1CCCC1N</td>\n",
       "      <td>1</td>\n",
       "      <td>C6H14N2</td>\n",
       "    </tr>\n",
       "    <tr>\n",
       "      <th>182512</th>\n",
       "      <td>1,6-Hexanediamine</td>\n",
       "      <td>C6H16N2</td>\n",
       "      <td>116</td>\n",
       "      <td>NCCCCCCN</td>\n",
       "      <td>1</td>\n",
       "      <td>C6H16N2</td>\n",
       "    </tr>\n",
       "    <tr>\n",
       "      <th>182513</th>\n",
       "      <td>N-n-Butylpropionamide</td>\n",
       "      <td>C7H15NO</td>\n",
       "      <td>129</td>\n",
       "      <td>CCCCNC(=O)CC</td>\n",
       "      <td>1</td>\n",
       "      <td>C7H15NO</td>\n",
       "    </tr>\n",
       "    <tr>\n",
       "      <th>182514</th>\n",
       "      <td>Propanamide, N-hexyl-</td>\n",
       "      <td>C9H19NO</td>\n",
       "      <td>157</td>\n",
       "      <td>CCCCCCNC(=O)CC</td>\n",
       "      <td>1</td>\n",
       "      <td>C9H19NO</td>\n",
       "    </tr>\n",
       "    <tr>\n",
       "      <th>182515</th>\n",
       "      <td>Propanamide, N-(2-hydroxyethyl)-</td>\n",
       "      <td>C5H11NO2</td>\n",
       "      <td>117</td>\n",
       "      <td>CCC(=O)NCCO</td>\n",
       "      <td>1</td>\n",
       "      <td>C5H11NO2</td>\n",
       "    </tr>\n",
       "  </tbody>\n",
       "</table>\n",
       "<p>182516 rows × 6 columns</p>\n",
       "</div>"
      ]
     },
     "execution_count": 46,
     "metadata": {},
     "output_type": "execute_result"
    }
   ],
   "execution_count": 46
  }
 ],
 "metadata": {
  "kernelspec": {
   "display_name": "Python 3",
   "language": "python",
   "name": "python3"
  },
  "language_info": {
   "codemirror_mode": {
    "name": "ipython",
    "version": 2
   },
   "file_extension": ".py",
   "mimetype": "text/x-python",
   "name": "python",
   "nbconvert_exporter": "python",
   "pygments_lexer": "ipython2",
   "version": "2.7.6"
  }
 },
 "nbformat": 4,
 "nbformat_minor": 5
}
