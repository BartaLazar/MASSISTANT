{
 "cells": [
  {
   "metadata": {},
   "cell_type": "markdown",
   "source": "PKL reader",
   "id": "91b923386e3f4fca"
  },
  {
   "metadata": {},
   "cell_type": "code",
   "source": [
    "from Code.Utils.util_methods import NNUtils\n",
    "%load_ext autoreload\n",
    "%autoreload 2"
   ],
   "id": "d07266362a950c74",
   "outputs": [],
   "execution_count": null
  },
  {
   "metadata": {},
   "cell_type": "code",
   "source": [
    "import os\n",
    "import pandas as pd\n",
    "from rdkit import Chem\n",
    "from rdkit.Chem import rdMolDescriptors\n",
    "from tqdm import tqdm\n",
    "\n",
    "\n",
    "cwd = os.getcwd()\n",
    "base = f'{cwd}/../..'"
   ],
   "id": "2170d3c63cc9cf29",
   "outputs": [],
   "execution_count": null
  },
  {
   "metadata": {},
   "cell_type": "markdown",
   "source": "## Give the path to the pkl file",
   "id": "f1ae4ca1bab540ae"
  },
  {
   "cell_type": "code",
   "id": "initial_id",
   "metadata": {
    "collapsed": true
   },
   "source": [
    "FILEPATH = 'YOUR PATH'\n",
    "FILTER_COLUMNS = ['Name', 'Form', 'Mw', 'SMILES'] # example\n",
    "#FILTER_COLUMNS = None"
   ],
   "outputs": [],
   "execution_count": null
  },
  {
   "metadata": {},
   "cell_type": "markdown",
   "source": "## Extract the pkl file into a df",
   "id": "ce07999e898a2920"
  },
  {
   "metadata": {},
   "cell_type": "code",
   "source": "df = NNUtils.read_big_csv(FILEPATH)",
   "id": "19f40fd1a2e0c8e4",
   "outputs": [],
   "execution_count": null
  },
  {
   "metadata": {},
   "cell_type": "code",
   "source": [
    "if FILTER_COLUMNS:\n",
    "    df = df[FILTER_COLUMNS]\n",
    "print(df.shape)\n",
    "df"
   ],
   "id": "9ebdc8efef574b2c",
   "outputs": [],
   "execution_count": null
  },
  {
   "metadata": {},
   "cell_type": "code",
   "source": [
    "df['smile_form_match'] = 99 # -2 means contains . and no match -1 means incorrect form 0 means no match 1 means match\n",
    "df['new_form'] = df['Form']\n",
    "\n",
    "c=0\n",
    "\n",
    "for index in tqdm(range(df.shape[0])):\n",
    "\n",
    "    # convert smiles to a molecule object\n",
    "    if df.loc[index, 'SMILES'] is None:\n",
    "        continue\n",
    "    \n",
    "    mol = Chem.MolFromSmiles(df.loc[index, 'SMILES'])\n",
    "    if \".\" in df.loc[index, 'SMILES']:\n",
    "        c+=1\n",
    "    \n",
    "    # check if the molecule is valid\n",
    "    if mol:\n",
    "        # calculate the molecular formula\n",
    "        molecular_formula = rdMolDescriptors.CalcMolFormula(mol)\n",
    "        if molecular_formula == df.loc[index, 'Form']:\n",
    "            df.loc[index, 'smile_form_match'] = 1\n",
    "        elif \".\" in df.loc[index, 'SMILES']:\n",
    "            df.loc[index, 'smile_form_match'] = -2\n",
    "        else:\n",
    "            df.loc[index, 'smile_form_match'] = 0\n",
    "            df.loc[index, 'new_form'] = molecular_formula\n",
    "    else:\n",
    "        df.loc[index, 'smile_form_match'] = -1\n",
    "        \n",
    "print(f'{c} molecules contain .')"
   ],
   "id": "30bc35d1d072e217",
   "outputs": [],
   "execution_count": null
  },
  {
   "metadata": {},
   "cell_type": "code",
   "source": "df[df['smile_form_match'] == -2]",
   "id": "f96d0793b85250d6",
   "outputs": [],
   "execution_count": null
  },
  {
   "metadata": {},
   "cell_type": "code",
   "source": "df[df['smile_form_match'] == 1]",
   "id": "14c87c4ad9cb1429",
   "outputs": [],
   "execution_count": null
  }
 ],
 "metadata": {
  "kernelspec": {
   "display_name": "Python 3",
   "language": "python",
   "name": "python3"
  },
  "language_info": {
   "codemirror_mode": {
    "name": "ipython",
    "version": 2
   },
   "file_extension": ".py",
   "mimetype": "text/x-python",
   "name": "python",
   "nbconvert_exporter": "python",
   "pygments_lexer": "ipython2",
   "version": "2.7.6"
  }
 },
 "nbformat": 4,
 "nbformat_minor": 5
}
