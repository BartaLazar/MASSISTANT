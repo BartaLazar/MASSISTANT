{
 "cells": [
  {
   "cell_type": "markdown",
   "id": "91b923386e3f4fca",
   "metadata": {},
   "source": [
    "PKL reader"
   ]
  },
  {
   "cell_type": "code",
   "id": "d07266362a950c74",
   "metadata": {},
   "source": [
    "%load_ext autoreload\n",
    "%autoreload 2"
   ],
   "outputs": [],
   "execution_count": null
  },
  {
   "cell_type": "code",
   "id": "2170d3c63cc9cf29",
   "metadata": {},
   "source": [
    "import os\n",
    "import pandas as pd\n",
    "\n",
    "cwd = os.getcwd()\n",
    "base = f'{cwd}/../..'"
   ],
   "outputs": [],
   "execution_count": null
  },
  {
   "cell_type": "markdown",
   "id": "f1ae4ca1bab540ae",
   "metadata": {},
   "source": [
    "## Give the path to the pkl file"
   ]
  },
  {
   "cell_type": "code",
   "id": "initial_id",
   "metadata": {},
   "source": [
    "FILEPATH = 'YOUR PATH'\n",
    "#FILTER_COLUMNS = ['Name', 'Form', 'Mw', 'smiles']\n",
    "FILTER_COLUMNS = None"
   ],
   "outputs": [],
   "execution_count": null
  },
  {
   "cell_type": "markdown",
   "id": "ce07999e898a2920",
   "metadata": {},
   "source": [
    "## Extract the pkl file into a df"
   ]
  },
  {
   "cell_type": "code",
   "id": "19f40fd1a2e0c8e4",
   "metadata": {},
   "source": [
    "df = pd.read_pickle(FILEPATH)"
   ],
   "outputs": [],
   "execution_count": null
  },
  {
   "cell_type": "code",
   "id": "9ebdc8efef574b2c",
   "metadata": {},
   "source": [
    "if FILTER_COLUMNS:\n",
    "    df = df[FILTER_COLUMNS]\n",
    "print(df.shape)\n",
    "df"
   ],
   "outputs": [],
   "execution_count": null
  }
 ],
 "metadata": {
  "kernelspec": {
   "display_name": "Python 3 (ipykernel)",
   "language": "python",
   "name": "python3"
  },
  "language_info": {
   "codemirror_mode": {
    "name": "ipython",
    "version": 3
   },
   "file_extension": ".py",
   "mimetype": "text/x-python",
   "name": "python",
   "nbconvert_exporter": "python",
   "pygments_lexer": "ipython3",
   "version": "3.11.8"
  }
 },
 "nbformat": 4,
 "nbformat_minor": 5
}
